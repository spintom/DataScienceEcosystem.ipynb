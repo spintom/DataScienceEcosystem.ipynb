{
  "nbformat": 4,
  "nbformat_minor": 0,
  "metadata": {
    "colab": {
      "provenance": []
    },
    "kernelspec": {
      "name": "python3",
      "display_name": "Python 3"
    },
    "language_info": {
      "name": "python"
    }
  },
  "cells": [
    {
      "cell_type": "markdown",
      "source": [
        "### Ejercicio 2: Crear una celda de markdown con el título del cuaderno\n",
        "\n",
        "# Data Science Tools and Ecosystem"
      ],
      "metadata": {
        "id": "ZeXHOyDr2MDG"
      }
    },
    {
      "cell_type": "markdown",
      "source": [
        "###Ejercicio 3 - Crear una celda de markdown para una introducción\n",
        "\n",
        "\n",
        "En este cuaderno, se resumen las herramientas y ecosistemas de ciencia de datos."
      ],
      "metadata": {
        "id": "NUaMy1lQ8V3x"
      }
    },
    {
      "cell_type": "markdown",
      "source": [
        "### Ejercicio 10 - Insertar una celda de markdown para listar Objetivos\n",
        "\n",
        "**Objetivos:**\n",
        "\n",
        "- Comprender cómo convertir minutos a horas utilizando Python.\n",
        "- Introducir funciones básicas en Python.\n",
        "- Practicar la entrada y salida de datos (input/output).\n",
        "- Familiarizarse con la manipulación de operaciones matematicas.\n",
        "- Aplicar conceptos básicos en un entorno de Jupyter notebook.\n"
      ],
      "metadata": {
        "id": "Xn-1RLJAEPzb"
      }
    },
    {
      "cell_type": "markdown",
      "source": [
        "### Ejercicio 4 - Crear una celda de markdown para listar lenguajes de ciencia de datos:\n",
        "\n",
        "Algunos de los lenguajes populares que utilizan los científicos de datos son::\n",
        "\n",
        "1. **Python** – Popular por su simplicidad y amplia gama de librerías como Pandas, NumPy, Scikit-learn, TensorFlow y Matplotlib.\n",
        "2. **R** – Ideal para análisis estadístico y visualización de datos.\n",
        "3. **SQL** – Utilizado para la manipulación y consulta de bases de datos.\n",
        "4. **Julia** – Conocido por su alto rendimiento en cálculos numéricos y científicos.\n",
        "5. **Scala** – Frecuentemente usado junto con Apache Spark para el procesamiento de grandes volúmenes de datos."
      ],
      "metadata": {
        "id": "DOedBQil9Auu"
      }
    },
    {
      "cell_type": "markdown",
      "source": [
        "### Ejercicio 5 - Bibliotecas de Ciencia de Datos\n",
        "\n",
        "Algunas de las bibliotecas comúnmente utilizadas por los científicos de datos incluyen:\n",
        "\n",
        "1. **NumPy** – Soporte para arreglos multidimensionales y operaciones matemáticas de alto rendimiento.  \n",
        "2. **Pandas** – Manipulación y análisis de datos estructurados (DataFrames).  \n",
        "3. **Matplotlib** – Visualización de datos mediante gráficos estáticos.  \n",
        "4. **Seaborn** – Visualizaciones estadísticas sobre Matplotlib, con una sintaxis más sencilla.  \n",
        "5. **Scikit-learn** – Algoritmos de machine learning y herramientas de modelado.  \n",
        "6. **TensorFlow** – Framework para construir y entrenar modelos de aprendizaje profundo."
      ],
      "metadata": {
        "id": "azKmRpEL-iYI"
      }
    },
    {
      "cell_type": "markdown",
      "source": [
        "### Ejercicio 6 - Tabla de Herramientas de Ciencia de Datos\n",
        "\n",
        "| Herramientas de Ciencia de Datos| descripción | Uso Principal |\n",
        "|---------------------|--------------------------------------------------------------|--------------------------------------|\n",
        "| **Jupyter Notebook**| Entorno interactivo para escribir y ejecutar código Python   | Análisis y visualización de datos    |\n",
        "| **Google Colab**    | Plataforma basada en la nube para notebooks de Python        | Ciencia de datos en la nube          |\n",
        "| **Apache Spark**    | Motor de análisis para procesamiento de big data             | Procesamiento distribuido de datos   |\n",
        "| **Tableau**         | Herramienta de visualización de datos                        | Dashboards e informes interactivos   |\n",
        "| **Power BI**        | Plataforma de análisis empresarial                           | Visualización y análisis de datos    |\n"
      ],
      "metadata": {
        "id": "dZdMFoX4_D31"
      }
    },
    {
      "cell_type": "markdown",
      "source": [
        "### Ejercicio 7 - Ejemplos de Expresiones Aritméticas\n",
        "\n",
        "A continuación, se presentan algunos ejemplos de evaluación de expresiones aritméticas en Python.\n",
        "\n",
        "- **Suma:** `5 + 3` → Resultado: `8`  \n",
        "- **Resta:** `10 - 4` → Resultado: `6`  \n",
        "- **Multiplicación:** `7 * 2` → Resultado: `14`  \n",
        "- **División:** `8 / 2` → Resultado: `4.0`  \n",
        "- **Módulo (residuo):** `10 % 3` → Resultado: `1`  \n",
        "- **Potencia:** `2 ** 3` → Resultado: `8`  \n",
        "\n",
        "Estas operaciones básicas son fundamentales para cualquier cálculo en ciencia de datos."
      ],
      "metadata": {
        "id": "3_5R9ePzBCgO"
      }
    },
    {
      "cell_type": "code",
      "source": [
        "# Ejercicio 8 - Multiplicación y suma de números utilizando Python\n",
        "\n",
        "# Definición de variables\n",
        "a = 5\n",
        "b = 3\n",
        "\n",
        "# Operaciones\n",
        "multiplicacion = a * b\n",
        "suma = a + b\n",
        "\n",
        "# Resultados\n",
        "print(\"Multiplicación:\", multiplicacion)\n",
        "print(\"Suma:\", suma)"
      ],
      "metadata": {
        "colab": {
          "base_uri": "https://localhost:8080/"
        },
        "id": "eqTPoVU2Boz7",
        "outputId": "a61acc4a-0943-4bf2-f424-36add9699b79"
      },
      "execution_count": 1,
      "outputs": [
        {
          "output_type": "stream",
          "name": "stdout",
          "text": [
            "Multiplicación: 15\n",
            "Suma: 8\n"
          ]
        }
      ]
    },
    {
      "cell_type": "code",
      "source": [
        "# Ejercicio 9 - Crear una celda de código para convertir minutos a horas.\n",
        "#En esta celda de código escribe una expresión que convierta 200 minutos en horas:\n",
        "\n",
        "# Definir la cantidad de minutos\n",
        "minutos = 200\n",
        "\n",
        "# Convertir a horas (1 hora = 60 minutos)\n",
        "horas = minutos / 60\n",
        "\n",
        "# Mostrar el resultado\n",
        "print(\"Minutos:\", minutos)\n",
        "print(\"Equivalente en horas:\", horas)"
      ],
      "metadata": {
        "colab": {
          "base_uri": "https://localhost:8080/"
        },
        "id": "ylWEmsD1Csvv",
        "outputId": "2014d64f-9b15-4507-fc6d-bae17f921d22"
      },
      "execution_count": 4,
      "outputs": [
        {
          "output_type": "stream",
          "name": "stdout",
          "text": [
            "Minutos: 200\n",
            "Equivalente en horas: 3.3333333333333335\n"
          ]
        }
      ]
    },
    {
      "cell_type": "markdown",
      "source": [
        "### Ejercicio 11 - Crear una celda de markdown para indicar el nombre del autor\n",
        "\n",
        "## Autor\n",
        " Sergio Pinto Montejo"
      ],
      "metadata": {
        "id": "WVkp0Mn-FuJs"
      }
    },
    {
      "cell_type": "markdown",
      "source": [],
      "metadata": {
        "id": "y-OW87QP2IY-"
      }
    }
  ]
}